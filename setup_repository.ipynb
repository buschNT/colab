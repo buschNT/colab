{
  "nbformat": 4,
  "nbformat_minor": 0,
  "metadata": {
    "colab": {
      "name": "setup_repository.ipynb",
      "provenance": [],
      "collapsed_sections": [],
      "include_colab_link": true
    },
    "kernelspec": {
      "name": "python3",
      "display_name": "Python 3"
    }
  },
  "cells": [
    {
      "cell_type": "markdown",
      "metadata": {
        "id": "view-in-github",
        "colab_type": "text"
      },
      "source": [
        "<a href=\"https://colab.research.google.com/github/buschNT/colab/blob/master/setup_repository.ipynb\" target=\"_parent\"><img src=\"https://colab.research.google.com/assets/colab-badge.svg\" alt=\"Open In Colab\"/></a>"
      ]
    },
    {
      "cell_type": "markdown",
      "metadata": {
        "id": "z9Xd-71e6__Y",
        "colab_type": "text"
      },
      "source": [
        "# settings"
      ]
    },
    {
      "cell_type": "code",
      "metadata": {
        "id": "7e2yQF1K6W7F",
        "colab_type": "code",
        "colab": {}
      },
      "source": [
        "# settings\n",
        "PATH_REPOSITORY_PUBLIC = \"https://github.com/buschNT/deep_learning_public.git\""
      ],
      "execution_count": 0,
      "outputs": []
    },
    {
      "cell_type": "markdown",
      "metadata": {
        "id": "lm5y-TCdcNjq",
        "colab_type": "text"
      },
      "source": [
        "# tensorflow 2\n",
        "Update to tensorflow 2 (if required)."
      ]
    },
    {
      "cell_type": "code",
      "metadata": {
        "id": "1MaEvw_ya0Jj",
        "colab_type": "code",
        "colab": {}
      },
      "source": [
        "%%capture\n",
        "\n",
        "import tensorflow as tf\n",
        "import os\n",
        "\n",
        "version = tf.__version__\n",
        "if(version[0] != '2'):\n",
        "  !pip install tensorflow==2.0.0-alpha0\n",
        "  os.kill(os.getpid(), 9)"
      ],
      "execution_count": 0,
      "outputs": []
    },
    {
      "cell_type": "markdown",
      "metadata": {
        "id": "T6aioF7yKtJy",
        "colab_type": "text"
      },
      "source": [
        "# clone git repositories (public + private)\n",
        "- Clone public repository. Install module `colab` from repository.\n",
        "- Mount Google Drive.\n",
        "- Load configuration form `colab_configuration.yaml`.\n",
        "- Clone private repository. Required information are stored in `colab_configuration.yaml`. Install module `my_keras` from repository."
      ]
    },
    {
      "cell_type": "code",
      "metadata": {
        "colab_type": "code",
        "id": "Wj0V-kcemy41",
        "colab": {}
      },
      "source": [
        "%%capture\n",
        "\n",
        "# clone public repository\n",
        "PATH_CODE_PUBLIC = 'code_public'\n",
        "!mkdir \"{PATH_CODE_PUBLIC}\"\n",
        "!git clone {PATH_REPOSITORY_PUBLIC} \"{PATH_CODE_PUBLIC}\"\n",
        "\n",
        "# install\n",
        "%cd ./{PATH_CODE_PUBLIC}/colab\n",
        "!python \"setup.py\" install\n",
        "\n",
        "# import\n",
        "import colab\n",
        "%cd ~/../content/"
      ],
      "execution_count": 0,
      "outputs": []
    },
    {
      "cell_type": "code",
      "metadata": {
        "id": "duW-Z0BgqJts",
        "colab_type": "code",
        "colab": {}
      },
      "source": [
        "# mount drive\n",
        "colab.mount_drive()"
      ],
      "execution_count": 0,
      "outputs": []
    },
    {
      "cell_type": "code",
      "metadata": {
        "id": "BGDldAtCtbRf",
        "colab_type": "code",
        "colab": {}
      },
      "source": [
        "# load configuration\n",
        "configuration = colab.get_configuration('/content/drive/My Drive/colab_configuration.yaml')"
      ],
      "execution_count": 0,
      "outputs": []
    },
    {
      "cell_type": "code",
      "metadata": {
        "id": "eUlYCyZHIDm1",
        "colab_type": "code",
        "colab": {}
      },
      "source": [
        "%%capture\n",
        "\n",
        "# clone private repository\n",
        "GIT_USERNAME, GIT_TOKEN, GIT_REPOSITORY, PATH_CODE_PRIVATE = colab.get_repository_configuration_private(configuration)\n",
        "!mkdir \"{PATH_CODE_PRIVATE}\"\n",
        "!git clone https://{GIT_TOKEN}@github.com/{GIT_USERNAME}/{GIT_REPOSITORY}.git \"{PATH_CODE_PRIVATE}\"\n",
        "\n",
        "# install\n",
        "%cd ./{PATH_CODE_PRIVATE}/my_keras\n",
        "!python \"setup.py\" install\n",
        "\n",
        "# import\n",
        "import my_keras\n",
        "%cd ~/../content/"
      ],
      "execution_count": 0,
      "outputs": []
    },
    {
      "cell_type": "markdown",
      "metadata": {
        "id": "2MoHlrbDrhV5",
        "colab_type": "text"
      },
      "source": [
        "# CODE"
      ]
    },
    {
      "cell_type": "code",
      "metadata": {
        "id": "00Knezx9l5jA",
        "colab_type": "code",
        "colab": {}
      },
      "source": [
        "# CODE"
      ],
      "execution_count": 0,
      "outputs": []
    }
  ]
}